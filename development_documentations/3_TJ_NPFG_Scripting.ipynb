{
  "nbformat": 4,
  "nbformat_minor": 0,
  "metadata": {
    "colab": {
      "provenance": []
    },
    "kernelspec": {
      "name": "python3",
      "display_name": "Python 3"
    },
    "language_info": {
      "name": "python"
    }
  },
  "cells": [
    {
      "cell_type": "markdown",
      "source": [
        "# About\n",
        "\n",
        "\"On Flying Backwards: Preventing Run-away of Small, Low-speed, Fixed-wing UAVs in Strong Winds\"\n",
        "\n",
        "This CoLab script contains basic formulations drived from the paper.\n",
        "\n",
        "Note: Also, PX4 NPFG library functions are implemented as well for comparison."
      ],
      "metadata": {
        "id": "3GXVHN5KAEmu"
      }
    },
    {
      "cell_type": "markdown",
      "source": [
        "# Environment Setup"
      ],
      "metadata": {
        "id": "khaO2WYnAlmi"
      }
    },
    {
      "cell_type": "code",
      "execution_count": null,
      "metadata": {
        "colab": {
          "base_uri": "https://localhost:8080/"
        },
        "id": "PHUBIr7RAAkr",
        "outputId": "57bfe349-2a19-4094-ec2d-5c20bbeb1e20"
      },
      "outputs": [
        {
          "output_type": "stream",
          "name": "stdout",
          "text": [
            "Looking in indexes: https://pypi.org/simple, https://us-python.pkg.dev/colab-wheels/public/simple/\n",
            "Requirement already satisfied: numpy in /usr/local/lib/python3.8/dist-packages (1.21.6)\n",
            "Looking in indexes: https://pypi.org/simple, https://us-python.pkg.dev/colab-wheels/public/simple/\n",
            "Requirement already satisfied: matplotlib in /usr/local/lib/python3.8/dist-packages (3.2.2)\n",
            "Requirement already satisfied: python-dateutil>=2.1 in /usr/local/lib/python3.8/dist-packages (from matplotlib) (2.8.2)\n",
            "Requirement already satisfied: cycler>=0.10 in /usr/local/lib/python3.8/dist-packages (from matplotlib) (0.11.0)\n",
            "Requirement already satisfied: kiwisolver>=1.0.1 in /usr/local/lib/python3.8/dist-packages (from matplotlib) (1.4.4)\n",
            "Requirement already satisfied: numpy>=1.11 in /usr/local/lib/python3.8/dist-packages (from matplotlib) (1.21.6)\n",
            "Requirement already satisfied: pyparsing!=2.0.4,!=2.1.2,!=2.1.6,>=2.0.1 in /usr/local/lib/python3.8/dist-packages (from matplotlib) (3.0.9)\n",
            "Requirement already satisfied: six>=1.5 in /usr/local/lib/python3.8/dist-packages (from python-dateutil>=2.1->matplotlib) (1.15.0)\n"
          ]
        }
      ],
      "source": [
        "!pip install numpy\n",
        "!pip install matplotlib"
      ]
    },
    {
      "cell_type": "markdown",
      "source": [
        "## Import Libraries"
      ],
      "metadata": {
        "id": "UHAJHfaTBJu-"
      }
    },
    {
      "cell_type": "code",
      "source": [
        "import numpy as np\n",
        "import matplotlib.pyplot as plt\n",
        "import unittest"
      ],
      "metadata": {
        "id": "BoQai8rhBIm8"
      },
      "execution_count": null,
      "outputs": []
    },
    {
      "cell_type": "markdown",
      "source": [
        "## Constants"
      ],
      "metadata": {
        "id": "kH1rZu6JXf9n"
      }
    },
    {
      "cell_type": "code",
      "source": [
        "NPFG_EPSILON = 1.0e-6 # small number *bigger than machine epsilon"
      ],
      "metadata": {
        "id": "bR014Z4OXhMI"
      },
      "execution_count": null,
      "outputs": []
    },
    {
      "cell_type": "markdown",
      "source": [
        "# Basic Formulations"
      ],
      "metadata": {
        "id": "kCInTbhRAYtj"
      }
    },
    {
      "cell_type": "markdown",
      "source": [
        "## Bearing Feasibility"
      ],
      "metadata": {
        "id": "Z2NV4ghYAhEC"
      }
    },
    {
      "cell_type": "code",
      "source": [
        "def saturate(value, low, high):\n",
        "  \"\"\" Saturates the value within the [low, high] boundary, without calculating the absolute value \"\"\"\n",
        "  return np.clip(value, low, high)\n",
        "\n",
        "def saturate_bearing_PI_2(bearing_to_wind_rad):\n",
        "  \"\"\" Saturates the absolute value of the bearing (in radians) within (0, PI/2) range \"\"\"\n",
        "  return np.clip(np.abs(bearing_to_wind_rad), 0, np.pi/2)\n",
        "\n",
        "def bearing_feasibility_v1(bearing_to_wind_rad, wind_factor, DEBUG = False):\n",
        "  \"\"\" Implementation of simple bearing feasibility function defined in Equation 3 \"\"\"\n",
        "  bearing_saturated = saturate_bearing_PI_2(bearing_to_wind_rad)\n",
        "  # Note: This may return imaginary number (sqrt with negative number)\n",
        "  numerator = np.sqrt(1 - np.square(wind_factor * np.sin(bearing_saturated)))\n",
        "  denominator = np.cos(bearing_saturated)\n",
        "  raw_feasibility = numerator / denominator\n",
        "  \n",
        "  if (DEBUG): print('Saturated Bearing: {}, Numerator: {}, Denominator: {}, Unprocessed feasibility: {}'.format(bearing_saturated, numerator, denominator, raw_feasibility))\n",
        "  \n",
        "  # Filter out the feasiblity value\n",
        "  if np.isnan(raw_feasibility):\n",
        "    return 0\n",
        "  else:\n",
        "    return np.clip(raw_feasibility, 0, 1)\n",
        "\n",
        "def get_wind_factor_buffer_bounds(bearing_to_wind_rad, bearing_to_wind_cutoff_rad, wind_factor_buffer):\n",
        "  \"\"\" Implementation of Equation 5 & 6, where wind factor buffer zone bounds are calculated (affected by bearing setpoint the most) \"\"\"\n",
        "  bearing_saturated = saturate_bearing_PI_2(bearing_to_wind_rad)\n",
        "  \n",
        "  if (bearing_saturated > bearing_to_wind_cutoff_rad):\n",
        "    # Below the cutoff\n",
        "    wind_factor_upper_inf = 1/np.sin(bearing_to_wind_cutoff_rad)\n",
        "    wind_factor_slope = np.cos(bearing_to_wind_cutoff_rad) / np.square(np.sin(bearing_to_wind_cutoff_rad))\n",
        "    wind_factor_lower_inf = (1/np.sin(bearing_to_wind_cutoff_rad) - 2) * wind_factor_buffer + 1\n",
        "\n",
        "    wind_factor_upper = wind_factor_upper_inf + (bearing_to_wind_cutoff_rad - bearing_to_wind_rad) * wind_factor_slope\n",
        "    wind_factor_lower = wind_factor_lower_inf + (bearing_to_wind_cutoff_rad - bearing_to_wind_rad) * wind_factor_slope * wind_factor_buffer\n",
        "    return (wind_factor_lower, wind_factor_upper)\n",
        "  else:\n",
        "    # Above the cutoff\n",
        "    wind_factor_upper = 1/np.sin(bearing_to_wind_rad)\n",
        "    wind_factor_lower = (1/np.sin(bearing_to_wind_rad) - 2) * wind_factor_buffer + 1\n",
        "    return (wind_factor_lower, wind_factor_upper)\n",
        "\n",
        "def bearing_feasibility_v2(bearing_to_wind_rad, wind_factor, bearing_to_wind_cutoff_rad, wind_factor_buffer, DEBUG = False):\n",
        "  \"\"\" Implementation of buffer-zone incorporated bearing feasibility function defined in Equation 3 \"\"\"\n",
        "  wind_factor_lower, wind_factor_upper = get_wind_factor_buffer_bounds(bearing_to_wind_rad, bearing_to_wind_cutoff_rad, wind_factor_buffer)\n",
        "\n",
        "  if (DEBUG): print('Wind Factor bounds calculated: [{}, {}]'.format(wind_factor_lower, wind_factor_upper))\n",
        "\n",
        "  if (wind_factor > wind_factor_upper):\n",
        "    # Wind factor above the bound, infeasible bearing!\n",
        "    return 0\n",
        "  elif (wind_factor > wind_factor_lower):\n",
        "    # Wind factor within the bound\n",
        "    wind_factor_proportion = (wind_factor - wind_factor_lower) / (wind_factor_upper - wind_factor_lower)\n",
        "    # Note: In the literature, it uses native saturation to (0, 1), range then multiplies by PI/2, but here I just directly re-use\n",
        "    # the bearing saturation logic, by multiplying PI/2 before handing over to the function\n",
        "    saturated_interpolated_angle = saturate_bearing_PI_2(wind_factor_proportion * (np.pi/2))\n",
        "    feasibility_calculated = np.square(np.cos(saturated_interpolated_angle))\n",
        "    if (DEBUG): print('Wind Factor within the bound! Proportion: {}, Saturated Angle: {}, Calculated feasibility: {}'.format(wind_factor_proportion, saturated_interpolated_angle, feasibility_calculated))\n",
        "    return feasibility_calculated\n",
        "  else:\n",
        "    # Wind factor below the lower bound\n",
        "    return 1\n",
        "\n",
        "def bearing_feasibility_PX4(bearing_to_wind_rad, wind_speed, airspeed, airspeed_buffer = 1.5, DEBUG = False):\n",
        "  \"\"\" Implementation of PX4 NPFG library's bearingFeasibility function \"\"\"\n",
        "  assert (wind_speed >= 0), \"Wind speed must be positive number!\"\n",
        "  assert (airspeed >= 0), \"Air speed must be positive number!\"\n",
        "  wind_cross_bearing_var = abs(wind_speed * np.sin(bearing_to_wind_rad))\n",
        "  if (abs(bearing_to_wind_rad) > np.pi / 2):\n",
        "    # If bearing is more than PI/2 beyond the wind velocity vector, override the crossed value\n",
        "    wind_cross_bearing_var = wind_speed\n",
        "  \n",
        "  # NOTE: It is important that we saturate without taking the absolute value, as this logic\n",
        "  # is different from the paper (`bearing_feasibility_v1`), and is based on speed magnitude\n",
        "  # And for example, to account for a case where airspeed is too low, and feasibility goes to 0,\n",
        "  # The saturate function should do what it's supposed to do only: Saturate the RAW value.\n",
        "  sine_val = np.sin(saturate((airspeed - wind_cross_bearing_var) / airspeed_buffer, 0.0, 1.0) * np.pi / 2)\n",
        "\n",
        "  if (DEBUG): print('Bearing: {}, Wind Speed: {}, Air Speed: {}, Wind cross bearing variable: {}, Sine value: {}'.format(bearing_to_wind_rad, wind_speed, airspeed, wind_cross_bearing_var, sine_val))\n",
        "  return np.square(sine_val)\n"
      ],
      "metadata": {
        "id": "LhrLoYrgAjko"
      },
      "execution_count": null,
      "outputs": []
    },
    {
      "cell_type": "markdown",
      "source": [
        "### Bearing Feasbilbility Test"
      ],
      "metadata": {
        "id": "Ee3Y-8l7BW6I"
      }
    },
    {
      "cell_type": "code",
      "source": [
        "class TestBearingFeasiblity(unittest.TestCase):\n",
        "  def test_saturate_bearing(self):\n",
        "    \"\"\" Test Bearing saturation logic (implied in Eq.3) \"\"\"\n",
        "    input_bearings = [-np.pi, -np.pi*2/3, 0.01, np.pi/2, np.pi*4/5]\n",
        "    output_saturated_bearings = [np.pi/2, np.pi/2, 0.01, np.pi/2, np.pi/2]\n",
        "    for input_bearing, output_expected in zip(input_bearings, output_saturated_bearings):\n",
        "      self.assertEqual(saturate_bearing_PI_2(input_bearing), output_expected)\n",
        "  \n",
        "  def test_bearing_feasibility_v1(self):\n",
        "    \"\"\" Test Bearing Feasibility function without buffer zone \"\"\"\n",
        "    # Note: It will only test range bearing [0, PI] and wind factor [0, 2]\n",
        "    DEBUG_ENABLE = False\n",
        "    \n",
        "    # >> Wind below aircraft's nominal airpseed (wind factor < 1)\n",
        "    # Case 1: Wanting to fly with the wind (bearing = 0), Wind is minimal\n",
        "    self.assertEqual(bearing_feasibility_v1(0, 0.01, DEBUG_ENABLE), 1)\n",
        "    # Case 2: Wanting to fly against the wind (bearing = PI), Wind is close to airspeed\n",
        "    self.assertEqual(bearing_feasibility_v1(np.pi, 0.98, DEBUG_ENABLE), 1)\n",
        "\n",
        "    # >> Wind exactly equalling aircraft's nominal airpspeed (wind factor == 1)\n",
        "    # Case 1: Wanting to fly with the wind\n",
        "    self.assertEqual(bearing_feasibility_v1(0, 1.0, DEBUG_ENABLE), 1)\n",
        "    # Case 2: Wanting to fly 45 deg skewed from the wind (maximum feasible bearing)\n",
        "    self.assertEqual(bearing_feasibility_v1(np.pi/4, 1.0, DEBUG_ENABLE), 1)\n",
        "    # Case 3: Wanting to fly 90 deg skewed from the wind (impossible)\n",
        "    self.assertEqual(bearing_feasibility_v1(np.pi/2, 1.0, DEBUG_ENABLE), 0)\n",
        "    # Case 4: Wanting to fly against the wind (impossible)\n",
        "    self.assertEqual(bearing_feasibility_v1(np.pi, 1.0, DEBUG_ENABLE), 0)\n",
        "\n",
        "    # >> Wind above aircraft's nominal airspeed (wind factor > 1)\n",
        "    # Case 1: Wanting to fly with the wind\n",
        "    self.assertEqual(bearing_feasibility_v1(0, 2.0, DEBUG_ENABLE), 1)\n",
        "    # Case 2: Wanting to fly 30 deg skewed from the wind, with wind factor as sqrt(3) (maximum feasible bearing)\n",
        "    # Since the feasibility will be a value between 0 and 1 (as it is an approximation), we assert that it's not 0.\n",
        "    self.assertIsNot(bearing_feasibility_v1(np.pi/6, np.sqrt(3), DEBUG_ENABLE), 0)\n",
        "    # Case 3: Wanting to fly 90 deg skewed from the wind, with wind factor 2 (impossible)\n",
        "    # This is the case where the (wind factor * sin (bearing) > 1), resulting in invalid sqrt calculation.\n",
        "    self.assertEqual(bearing_feasibility_v1(np.pi/2, 2.0, DEBUG_ENABLE), 0)\n",
        "\n",
        "  def test_wind_factor_buffer_bounds(self):\n",
        "    \"\"\" Test Wind factor buffer calculation \"\"\"\n",
        "    # >> Bearing target above cutoff\n",
        "    \n",
        "    # >> Bearing target below cutoff\n",
        "    return\n",
        "\n",
        "  def test_bearing_feasibility_v2(self):\n",
        "    \"\"\" Test Wind buffer-incorporated bearing feasibility function \"\"\"\n",
        "    return\n",
        "\n",
        "  def test_bearing_feasibility_PX4(self):\n",
        "    \"\"\" Test PX4 NPFG library's Bearing Feasibility function \"\"\"\n",
        "    # Arbitrary airspeed of the vehicle (e.g. Hobbywing Z-84 would fly at this speed)\n",
        "    AIRSPEED = 10\n",
        "    DEBUG_ENABLE = True\n",
        "\n",
        "    # We conceptually have a dial on the 'wind factor', and use the resulting wind speed as an agrument\n",
        "    # >> Wind below the vehicle airspeed\n",
        "    for wind_factor in [0.0, 0.5]:\n",
        "      WINDSPEED = AIRSPEED * wind_factor\n",
        "      # Case 1: Bearing going with the wind\n",
        "      self.assertEqual(bearing_feasibility_PX4(0.0, WINDSPEED, AIRSPEED, DEBUG = DEBUG_ENABLE), 1)\n",
        "\n",
        "      # Case 3: Bearing perpendicular to the wind\n",
        "      self.assertEqual(bearing_feasibility_PX4(np.pi/2, WINDSPEED, AIRSPEED, DEBUG = DEBUG_ENABLE), 1)\n",
        "\n",
        "      # Case 4: Bearing going fully against the wind\n",
        "      self.assertEqual(bearing_feasibility_PX4(np.pi, WINDSPEED, AIRSPEED, DEBUG = DEBUG_ENABLE), 1)\n",
        "    \n",
        "    # >> Wind above or equal to vehicle airspeed\n",
        "    for wind_factor in [1.0, 1.5, 2.0]:\n",
        "      WINDSPEED = AIRSPEED * wind_factor\n",
        "      # Case 1: Bearing going with the wind\n",
        "      self.assertEqual(bearing_feasibility_PX4(0.0, WINDSPEED, AIRSPEED, DEBUG = DEBUG_ENABLE), 1)\n",
        "\n",
        "      # Case 2: Bearing at half of sub-PI/2 angle around physical feasibility boundary\n",
        "      # Feasibility should be between 0 and 1, then it shouldn't be plain 0!\n",
        "      self.assertIsNot(bearing_feasibility_PX4(np.arcsin(1/wind_factor)/2, WINDSPEED, AIRSPEED, DEBUG = DEBUG_ENABLE), 0)\n",
        "\n",
        "      # Case 2: Bearing at sub-PI/2 angle around physical feasibility boundary\n",
        "      # Feasibility should be between 0 and 1, then it shouldn't be plain 0!\n",
        "      # Note, the function returns 0, but not sure why 'assertIsNot' doesn't trigger :(\n",
        "      print(bearing_feasibility_PX4(np.arcsin(1/wind_factor), WINDSPEED, AIRSPEED))\n",
        "      self.assertIsNot(bearing_feasibility_PX4(np.arcsin(1/wind_factor), WINDSPEED, AIRSPEED, DEBUG = DEBUG_ENABLE), 0)\n",
        "\n",
        "      # Case 3: Bearing perpendicular to the wind\n",
        "      self.assertEqual(bearing_feasibility_PX4(np.pi/2, WINDSPEED, AIRSPEED, DEBUG = DEBUG_ENABLE), 0)\n",
        "\n",
        "      # Case 4: Bearing going fully against the wind\n",
        "      self.assertEqual(bearing_feasibility_PX4(np.pi, WINDSPEED, AIRSPEED, DEBUG = DEBUG_ENABLE), 0)\n",
        "\n",
        "# Run the unit test\n",
        "# https://medium.com/@vladbezden/using-python-unittest-in-ipython-or-jupyter-732448724e31\n",
        "unittest.main(argv=['first-arg-is-ignored'], exit=False)"
      ],
      "metadata": {
        "colab": {
          "base_uri": "https://localhost:8080/"
        },
        "id": "Y6MyRpGPBaU1",
        "outputId": "1d2c3247-893f-415a-a620-ec15bd53e15e"
      },
      "execution_count": null,
      "outputs": [
        {
          "output_type": "stream",
          "name": "stderr",
          "text": [
            ".<ipython-input-17-f686ba1d29ee>:13: RuntimeWarning: invalid value encountered in sqrt\n",
            "  numerator = np.sqrt(1 - np.square(wind_factor * np.sin(bearing_saturated)))\n",
            "...."
          ]
        },
        {
          "output_type": "stream",
          "name": "stdout",
          "text": [
            "Bearing: 0.0, Wind Speed: 0.0, Air Speed: 10, Wind cross bearing variable: 0.0, Sine value: 1.0\n",
            "Bearing: 1.5707963267948966, Wind Speed: 0.0, Air Speed: 10, Wind cross bearing variable: 0.0, Sine value: 1.0\n",
            "Bearing: 3.141592653589793, Wind Speed: 0.0, Air Speed: 10, Wind cross bearing variable: 0.0, Sine value: 1.0\n",
            "Bearing: 0.0, Wind Speed: 5.0, Air Speed: 10, Wind cross bearing variable: 0.0, Sine value: 1.0\n",
            "Bearing: 1.5707963267948966, Wind Speed: 5.0, Air Speed: 10, Wind cross bearing variable: 5.0, Sine value: 1.0\n",
            "Bearing: 3.141592653589793, Wind Speed: 5.0, Air Speed: 10, Wind cross bearing variable: 5.0, Sine value: 1.0\n",
            "Bearing: 0.0, Wind Speed: 10.0, Air Speed: 10, Wind cross bearing variable: 0.0, Sine value: 1.0\n",
            "Bearing: 0.7853981633974483, Wind Speed: 10.0, Air Speed: 10, Wind cross bearing variable: 7.071067811865475, Sine value: 1.0\n",
            "0.0\n",
            "Bearing: 1.5707963267948966, Wind Speed: 10.0, Air Speed: 10, Wind cross bearing variable: 10.0, Sine value: 0.0\n",
            "Bearing: 1.5707963267948966, Wind Speed: 10.0, Air Speed: 10, Wind cross bearing variable: 10.0, Sine value: 0.0\n",
            "Bearing: 3.141592653589793, Wind Speed: 10.0, Air Speed: 10, Wind cross bearing variable: 10.0, Sine value: 0.0\n",
            "Bearing: 0.0, Wind Speed: 15.0, Air Speed: 10, Wind cross bearing variable: 0.0, Sine value: 1.0\n",
            "Bearing: 0.36486382811348317, Wind Speed: 15.0, Air Speed: 10, Wind cross bearing variable: 5.352331346596349, Sine value: 1.0\n",
            "0.0\n",
            "Bearing: 0.7297276562269663, Wind Speed: 15.0, Air Speed: 10, Wind cross bearing variable: 10.0, Sine value: 0.0\n",
            "Bearing: 1.5707963267948966, Wind Speed: 15.0, Air Speed: 10, Wind cross bearing variable: 15.0, Sine value: 0.0\n",
            "Bearing: 3.141592653589793, Wind Speed: 15.0, Air Speed: 10, Wind cross bearing variable: 15.0, Sine value: 0.0\n",
            "Bearing: 0.0, Wind Speed: 20.0, Air Speed: 10, Wind cross bearing variable: 0.0, Sine value: 1.0\n",
            "Bearing: 0.26179938779914946, Wind Speed: 20.0, Air Speed: 10, Wind cross bearing variable: 5.176380902050416, Sine value: 1.0\n",
            "0.0\n",
            "Bearing: 0.5235987755982989, Wind Speed: 20.0, Air Speed: 10, Wind cross bearing variable: 10.0, Sine value: 0.0\n",
            "Bearing: 1.5707963267948966, Wind Speed: 20.0, Air Speed: 10, Wind cross bearing variable: 20.0, Sine value: 0.0\n",
            "Bearing: 3.141592653589793, Wind Speed: 20.0, Air Speed: 10, Wind cross bearing variable: 20.0, Sine value: 0.0\n"
          ]
        },
        {
          "output_type": "stream",
          "name": "stderr",
          "text": [
            "\n",
            "----------------------------------------------------------------------\n",
            "Ran 5 tests in 0.025s\n",
            "\n",
            "OK\n"
          ]
        },
        {
          "output_type": "execute_result",
          "data": {
            "text/plain": [
              "<unittest.main.TestProgram at 0x7fc5ddf6a5b0>"
            ]
          },
          "metadata": {},
          "execution_count": 29
        }
      ]
    },
    {
      "cell_type": "markdown",
      "source": [
        "## Other functions"
      ],
      "metadata": {
        "id": "lYPucZk5OILP"
      }
    },
    {
      "cell_type": "code",
      "source": [
        "def windFactor(airspeed, wind_speed):\n",
        "  \"\"\" Calculates approximation of a Wind Factor \"\"\"\n",
        "  if (wind_speed > airspeed):\n",
        "    return 2.0\n",
        "  else:\n",
        "    return 2 * (1 - np.sqrt(1 - min (1.0, wind_speed/airspeed)))\n",
        "\n",
        "def trackErrorBound(ground_speed, time_constant):\n",
        "  \"\"\" Track error upper limit at which quadratic look-ahead angle transition happens \"\"\"\n",
        "  if (ground_speed > 1.0):\n",
        "    return ground_speed * time_constant\n",
        "  else:\n",
        "    return 0.5 * time_constant * (np.square(ground_speed) + 1.0)\n",
        "\n",
        "def periodLowerBound(air_turn_rate, wind_factor, feasability_on_track, roll_time_constant, damping):\n",
        "  \"\"\" Lower bound for the period for the controller \"\"\"\n",
        "  period_min = np.pi * roll_time_constant / damping\n",
        "\n",
        "  if ((air_turn_rate * wind_factor < NPFG_EPSILON) or (damping < 0.5)):\n",
        "    return period_min\n",
        "  else:\n",
        "    period_windy_curved_damped = 4.0 * np.pi * roll_time_constant * damping\n",
        "    return np.interp(feasability_on_track, [0.0, 1.0], [period_min, period_windy_curved_damped])"
      ],
      "metadata": {
        "id": "EpXX9dZ2OLdg"
      },
      "execution_count": null,
      "outputs": []
    },
    {
      "cell_type": "markdown",
      "source": [
        "### Other Functions Test"
      ],
      "metadata": {
        "id": "-ZOq2smEObbF"
      }
    },
    {
      "cell_type": "code",
      "source": [
        "class TestOtherFunctionsFeasiblity(unittest.TestCase):\n",
        "  def test_windFactor(self):\n",
        "    # No wind: Wind Factor 0\n",
        "    self.assertEqual(windFactor(10.0, 0.0), 0.0)\n",
        "    # No wind: Wind Factor 0.5\n",
        "    self.assertTrue(windFactor(10.0, 5.0) > 0.4 and windFactor(10.0, 5.0) < 0.6)\n",
        "    # No wind: Wind Factor 1.0\n",
        "    self.assertEqual(windFactor(10.0, 10.0), 2.0)\n",
        "    # No wind: Wind Factor 1.5\n",
        "    self.assertEqual(windFactor(10.0, 15.0), 2.0)\n",
        "\n",
        "# https://docs.python.org/3/library/unittest.html#organizing-test-code\n",
        "# def suite():\n",
        "#   suite = unittest.TestSuite()\n",
        "#   suite.addTest(TestOtherFunctionsFeasiblity('test_windFactor'))\n",
        "#   return suite\n",
        "suite = unittest.TestSuite()\n",
        "suite.addTest(TestOtherFunctionsFeasiblity('test_windFactor'))\n",
        "runner = unittest.TextTestRunner()\n",
        "runner.run(suite)"
      ],
      "metadata": {
        "colab": {
          "base_uri": "https://localhost:8080/"
        },
        "id": "s88sdVAIOcuP",
        "outputId": "860fb72e-0937-4c69-f8e4-5026b1d33fb5"
      },
      "execution_count": null,
      "outputs": [
        {
          "output_type": "stream",
          "name": "stderr",
          "text": [
            ".\n",
            "----------------------------------------------------------------------\n",
            "Ran 1 test in 0.003s\n",
            "\n",
            "OK\n"
          ]
        },
        {
          "output_type": "execute_result",
          "data": {
            "text/plain": [
              "<unittest.runner.TextTestResult run=1 errors=0 failures=0>"
            ]
          },
          "metadata": {},
          "execution_count": 39
        }
      ]
    },
    {
      "cell_type": "markdown",
      "source": [
        "### Other Functions Graph"
      ],
      "metadata": {
        "id": "1PoALYBwQ455"
      }
    },
    {
      "cell_type": "code",
      "source": [],
      "metadata": {
        "id": "m3vZlD-bQ6In"
      },
      "execution_count": null,
      "outputs": []
    }
  ]
}